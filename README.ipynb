{
  "nbformat": 4,
  "nbformat_minor": 0,
  "metadata": {
    "colab": {
      "provenance": []
    },
    "kernelspec": {
      "name": "python3",
      "display_name": "Python 3"
    },
    "language_info": {
      "name": "python"
    }
  },
  "cells": [
    {
      "cell_type": "code",
      "execution_count": 1,
      "metadata": {
        "colab": {
          "base_uri": "https://localhost:8080/"
        },
        "id": "Rs9hzm7Idhnv",
        "outputId": "4fccd9df-3574-4a26-916b-b3ca5cbeb8ba"
      },
      "outputs": [
        {
          "output_type": "stream",
          "name": "stdout",
          "text": [
            "El punto [2 2 3] pertenece a la clase: A\n"
          ]
        }
      ],
      "source": [
        "import numpy as np\n",
        "from collections import Counter\n",
        "\n",
        "class KNNClassifier:\n",
        "    def __init__(self, k=3):\n",
        "        self.k = k\n",
        "        self.X_train = None\n",
        "        self.y_train = None\n",
        "\n",
        "    def fit(self, X, y):\n",
        "        \"\"\"Almacena los datos de entrenamiento.\"\"\"\n",
        "        self.X_train = np.array(X)\n",
        "        self.y_train = np.array(y)\n",
        "\n",
        "    def predict(self, x):\n",
        "        \"\"\"Clasifica un nuevo punto x.\"\"\"\n",
        "        # Calculamos las distancias euclidianas\n",
        "        distances = np.linalg.norm(self.X_train - x, axis=1)\n",
        "        # Obtenemos los índices de los k vecinos más cercanos\n",
        "        neighbors_idx = np.argsort(distances)[:self.k]\n",
        "        # Obtenemos las clases de esos vecinos\n",
        "        neighbor_labels = self.y_train[neighbors_idx]\n",
        "        # Votación mayoritaria\n",
        "        most_common = Counter(neighbor_labels).most_common(1)\n",
        "        return most_common[0][0]\n",
        "\n",
        "# Ejemplo de uso\n",
        "if __name__ == \"__main__\":\n",
        "    # Datos de entrenamiento en un espacio de 3 dimensiones\n",
        "    X_train = [\n",
        "        [1, 2, 3],\n",
        "        [2, 3, 4],\n",
        "        [10, 10, 10],\n",
        "        [11, 11, 11],\n",
        "        [5, 5, 1]\n",
        "    ]\n",
        "    y_train = [\"A\", \"A\", \"B\", \"B\", \"C\"]  # Clases\n",
        "\n",
        "    # Entrenar clasificador\n",
        "    knn = KNNClassifier(k=3)\n",
        "    knn.fit(X_train, y_train)\n",
        "\n",
        "    # Clasificar un nuevo punto\n",
        "    x_new = np.array([2, 2, 3])\n",
        "    prediction = knn.predict(x_new)\n",
        "    print(f\"El punto {x_new} pertenece a la clase: {prediction}\")\n"
      ]
    }
  ]
}